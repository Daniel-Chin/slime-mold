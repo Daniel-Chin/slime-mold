{
 "cells": [
  {
   "cell_type": "code",
   "execution_count": null,
   "metadata": {},
   "outputs": [],
   "source": [
    "import cv2 as cv\n",
    "import numpy as np\n",
    "import matplotlib.pyplot as plt"
   ]
  },
  {
   "cell_type": "code",
   "execution_count": null,
   "metadata": {},
   "outputs": [],
   "source": [
    "def getFrame(x):\n",
    "    filename = \"/Users/ziyijiang/slime-mold/heavy/2021-04-25/\"+str(x)+\".jpg\"\n",
    "#     print(filename)\n",
    "    return cv.imread(filename,1)"
   ]
  },
  {
   "cell_type": "code",
   "execution_count": null,
   "metadata": {},
   "outputs": [],
   "source": [
    "def read_video(filename, range_, slice_list):\n",
    "    vc = cv.VideoCapture(filename)\n",
    "    a,b,c,d,e,f,g,h = slice_list[0],slice_list[1],slice_list[2],slice_list[3],slice_list[4],\\\n",
    "                        slice_list[5],slice_list[6],slice_list[7]\n",
    "    y1,y2,y3,y4 = [],[],[],[]\n",
    "#     if vc.isOpened():\n",
    "#         ret, frame1 = vc.read()\n",
    "#         b11 = frame1[a:b,:,0]\n",
    "#         b21 = frame1[c:d,:,0]\n",
    "#         b31 = frame1[e:f,:,0]\n",
    "#         b41 = frame1[g:h,:,0]\n",
    "#     else:\n",
    "#         ret = False\n",
    "    for i in range(range_):\n",
    "#         print(i, end='\\r', flush=True)\n",
    "        ret, frame = vc.read()\n",
    "#         b2 = frame[start:end,:,0]\n",
    "        b12 = frame[a:b,:,0]\n",
    "        b22 = frame[c:d,:,0]\n",
    "        b32 = frame[e:f,:,0]\n",
    "        b42 = frame[g:h,:,0]\n",
    "        y1.append(np.sum(b12<40))\n",
    "        y2.append(np.sum(b22<40))\n",
    "        y3.append(np.sum(b32<40))\n",
    "        y4.append(np.sum(b42<40))\n",
    "    return y1,y2,y3,y4"
   ]
  },
  {
   "cell_type": "code",
   "execution_count": null,
   "metadata": {},
   "outputs": [],
   "source": [
    "y1,y2,y3,y4 = read_video(\"/Users/ziyijiang/slime-mold/heavy/2021-04-25.mp4\",8063,[450,700,750,950,1200,1400,1450,1650])\n",
    "#450:700,750:950,1200:1400,1450:1650"
   ]
  },
  {
   "cell_type": "code",
   "execution_count": null,
   "metadata": {},
   "outputs": [],
   "source": [
    "# plt.figure(figsize=(6,6), dpi=80)\n",
    "plt.figure()\n",
    "ax1 = plt.subplot(221)\n",
    "plt.plot(y1, color=\"r\")\n",
    "ax2 = plt.subplot(222)\n",
    "plt.plot(y2,color=\"y\")\n",
    "ax3 = plt.subplot(223)\n",
    "plt.plot(y3,color=\"g\")\n",
    "ax4 = plt.subplot(224)\n",
    "plt.plot(y4,color=\"b\")"
   ]
  },
  {
   "cell_type": "code",
   "execution_count": null,
   "metadata": {},
   "outputs": [],
   "source": [
    "plt.figure()\n",
    "plt.plot(y1,color=\"r\")\n",
    "plt.plot(y2,color=\"g\")\n",
    "plt.plot(y3,color=\"b\")\n",
    "plt.plot(y4,color=\"y\")\n",
    "plt.title(\"4 tracks\")\n",
    "plt.show()"
   ]
  },
  {
   "cell_type": "code",
   "execution_count": null,
   "metadata": {},
   "outputs": [],
   "source": [
    "plt.figure()\n",
    "plt.plot(y1[2830:2840])\n",
    "plt.grid()\n",
    "plt.show()"
   ]
  },
  {
   "cell_type": "code",
   "execution_count": null,
   "metadata": {},
   "outputs": [],
   "source": [
    "plt.figure()\n",
    "plt.title(\"comparision\")\n",
    "plt.plot(y1[1800:2400])\n",
    "plt.plot(y1[1200:1800])\n",
    "plt.show()"
   ]
  },
  {
   "cell_type": "code",
   "execution_count": null,
   "metadata": {},
   "outputs": [],
   "source": [
    "frame_1 = getFrame(2838)\n",
    "frame_2 = getFrame(2839)\n",
    "frame_3 = getFrame(2840)\n",
    "frame_4 = getFrame(2841)\n",
    "\n",
    "# print(frame_200)"
   ]
  },
  {
   "cell_type": "code",
   "execution_count": null,
   "metadata": {},
   "outputs": [],
   "source": [
    "print(np.sum(frame_1[:,:,0]<40))\n",
    "plt.imshow(frame_1)"
   ]
  },
  {
   "cell_type": "code",
   "execution_count": null,
   "metadata": {},
   "outputs": [],
   "source": [
    "plt.imshow(np.concatenate([frame_1[250:750,:,0], frame_2[250:750,:,0], frame_3[250:750,:,0]]))"
   ]
  },
  {
   "cell_type": "code",
   "execution_count": null,
   "metadata": {},
   "outputs": [],
   "source": [
    "plt.imshow(frame_2[:,:,0]-frame_1[:,:,0])"
   ]
  },
  {
   "cell_type": "code",
   "execution_count": null,
   "metadata": {},
   "outputs": [],
   "source": [
    "print(np.sum(frame_2[:,:,0]<40))\n",
    "plt.imshow(frame_2[:,:,0])"
   ]
  },
  {
   "cell_type": "code",
   "execution_count": null,
   "metadata": {},
   "outputs": [],
   "source": [
    "print(np.sum(frame_200[750:950,:,0]<40))\n",
    "plt.imshow(frame_200[450:700,:,0])"
   ]
  },
  {
   "cell_type": "code",
   "execution_count": null,
   "metadata": {},
   "outputs": [],
   "source": [
    "print(np.sum(frame_3[:,:,0]<40))\n",
    "plt.imshow(frame_3[:,:,0])"
   ]
  },
  {
   "cell_type": "code",
   "execution_count": null,
   "metadata": {},
   "outputs": [],
   "source": [
    "plt.imshow(frame_4)"
   ]
  },
  {
   "cell_type": "code",
   "execution_count": null,
   "metadata": {},
   "outputs": [],
   "source": [
    "print(np.sum(frame_260[250:750,:,0]<40))\n",
    "plt.imshow(frame_260[250:750,:,0])"
   ]
  },
  {
   "cell_type": "markdown",
   "metadata": {},
   "source": [
    "Naughty time"
   ]
  },
  {
   "cell_type": "code",
   "execution_count": null,
   "metadata": {},
   "outputs": [],
   "source": [
    "from IPython.display import Audio\n",
    "Audio(np.concatenate([y2] * 10), rate = 22100)"
   ]
  },
  {
   "cell_type": "code",
   "execution_count": null,
   "metadata": {},
   "outputs": [],
   "source": [
    "for img in range\n",
    "img1 = cv.imread(\"/Users/ziyijiang/slime-mold/heavy/2021-04-25/500.jpg\",-1)\n",
    "img2 = cv.imread(\"/Users/ziyijiang/slime-mold/heavy/2021-04-25/600.jpg\",-1)\n",
    "b = img1[:,:,0]\n",
    "# diff = cv.addWeighted(img1,1,img2,-1,0)\n",
    "diff = b[1000:1500,:]\n",
    "# diff = cv.Canny(diff,0,10)\n",
    "diff = diff*40"
   ]
  }
 ],
 "metadata": {
  "kernelspec": {
   "display_name": "Python 3",
   "language": "python",
   "name": "python3"
  },
  "language_info": {
   "codemirror_mode": {
    "name": "ipython",
    "version": 3
   },
   "file_extension": ".py",
   "mimetype": "text/x-python",
   "name": "python",
   "nbconvert_exporter": "python",
   "pygments_lexer": "ipython3",
   "version": "3.6.10"
  }
 },
 "nbformat": 4,
 "nbformat_minor": 5
}

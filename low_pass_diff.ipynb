{
 "cells": [
  {
   "cell_type": "code",
   "execution_count": null,
   "metadata": {},
   "outputs": [],
   "source": [
    "import cv2 as cv\n",
    "import numpy as np\n",
    "import matplotlib.pyplot as plt\n",
    "from functools import lru_cache\n",
    "from jdt import Jdt"
   ]
  },
  {
   "cell_type": "code",
   "execution_count": null,
   "metadata": {},
   "outputs": [],
   "source": [
    "VIDEO_FILE = './heavy/2021-04-25.mp4'"
   ]
  },
  {
   "cell_type": "code",
   "execution_count": null,
   "metadata": {},
   "outputs": [],
   "source": [
    "class GetFrame:\n",
    "    # to improve: https://stackoverflow.com/questions/33650974/opencv-python-read-specific-frame-using-videocapture\n",
    "    def __init__(self):\n",
    "        self.cache = []\n",
    "        self.videoCapture = None\n",
    "        self.newVideoCapture()\n",
    "    \n",
    "    def newVideoCapture(self):\n",
    "        self.release()\n",
    "        self.videoCapture = cv.VideoCapture(VIDEO_FILE)\n",
    "        self.cursor = 0\n",
    "    \n",
    "    def next(self):\n",
    "        ret, frame = self.videoCapture.read()\n",
    "        self.cursor += 1\n",
    "        assert ret\n",
    "        return frame\n",
    "    \n",
    "    def release(self):\n",
    "        if self.videoCapture is not None:\n",
    "            self.videoCapture.release()\n",
    "    \n",
    "    @lru_cache(maxsize=2)\n",
    "    def __call__(self, frame_i, verbose=True):\n",
    "        if frame_i < self.cursor:\n",
    "            self.newVideoCapture()\n",
    "        if verbose:\n",
    "            j = Jdt(frame_i - self.cursor, UPP = 4)\n",
    "        while self.cursor < frame_i:\n",
    "            if verbose:\n",
    "                j.acc()\n",
    "            self.next()\n",
    "        if verbose:\n",
    "            j.complete()\n",
    "        assert frame_i == self.cursor\n",
    "        frame = self.next()\n",
    "        swapped = frame.copy()\n",
    "        swapped[:,:,0] = frame[:,:,2]\n",
    "        swapped[:,:,2] = frame[:,:,0]\n",
    "        return swapped\n",
    "\n",
    "getFrame = GetFrame()\n",
    "\n",
    "def widePlot(w = 16, h = 9):\n",
    "    fig = plt.gcf()\n",
    "    fig.set_size_inches(w, h)\n",
    "def view(frame):\n",
    "    plt.imshow(frame)\n",
    "    widePlot()\n",
    "    plt.show()\n",
    "\n",
    "def channel(frame, z_keep):\n",
    "    result = frame.copy()\n",
    "    for z in range(3):\n",
    "        if z != z_keep:\n",
    "            result[:, :, z] = frame[:, :, z_keep] * .5\n",
    "    return result\n",
    "def normalize(frame):\n",
    "    ceil  = np.max(frame)\n",
    "    floor = np.min(frame)\n",
    "    if 0 <= floor < 1 and 254 < ceil <= 255:\n",
    "        return frame\n",
    "    return np.rint((frame - floor) / (ceil - floor) * 255)\n",
    "def whiten(frame):\n",
    "    # convert one-channel frame to three-channel\n",
    "    w, h = frame.shape\n",
    "    result = np.zeros((w, h, 3), dtype=np.int16)\n",
    "    frame = normalize(frame)\n",
    "    result[:, :, 0] = frame\n",
    "    result[:, :, 1] = frame\n",
    "    result[:, :, 2] = frame\n",
    "    return result"
   ]
  },
  {
   "cell_type": "code",
   "execution_count": null,
   "metadata": {},
   "outputs": [],
   "source": [
    "# view(getFrame(100))"
   ]
  },
  {
   "cell_type": "markdown",
   "metadata": {},
   "source": [
    "# A problem\n",
    "focus/brightness variation!?"
   ]
  },
  {
   "cell_type": "markdown",
   "metadata": {},
   "source": [
    "an outlier remover problem?  \n",
    "in terms of overall brightness. \n",
    "\n",
    "focus? it is fine. everything is blurred anyways. "
   ]
  },
  {
   "cell_type": "code",
   "execution_count": null,
   "metadata": {},
   "outputs": [],
   "source": [
    "def eyeballOutlying():\n",
    "    OUTLIER_PAGE = 8\n",
    "    mid_i = round(OUTLIER_PAGE / 2)\n",
    "    i = 1500\n",
    "    getFrame(i)\n",
    "    dev = []\n",
    "    for _ in range(32):\n",
    "        frames = [getFrame(i + x, False) for x in range(OUTLIER_PAGE)]\n",
    "        brights = np.array([np.mean(f) for f in frames])\n",
    "        median = sorted(brights)[mid_i]\n",
    "        dev.extend(brights - median)\n",
    "        print(i + np.where(brights < median - 8)[0])\n",
    "        i += OUTLIER_PAGE\n",
    "    plt.hist(dev)\n",
    "eyeballOutlying()"
   ]
  },
  {
   "cell_type": "code",
   "execution_count": null,
   "metadata": {},
   "outputs": [],
   "source": [
    "OUTLIER_PAGE = 8\n",
    "BRIGHTNESS_THRES = 2\n",
    "\n",
    "def OutlierRemoved():\n",
    "    mid_i = round(OUTLIER_PAGE / 2)\n",
    "    i = 0\n",
    "    f = None\n",
    "    while True:\n",
    "        frames = [getFrame(i + x) for x in range(OUTLIER_PAGE)]\n",
    "        i += OUTLIER_PAGE\n",
    "        brights = [np.mean(f) for f in frames]\n",
    "        median = sorted(brights)[mid_i]\n",
    "        for j, b in enumerate(brights):\n",
    "            if abs(b - median) < BRIGHTNESS_THRES:\n",
    "                f = frames[j]\n",
    "            if f is not None:\n",
    "                yield f\n"
   ]
  },
  {
   "cell_type": "code",
   "execution_count": null,
   "metadata": {},
   "outputs": [],
   "source": [
    "def LowPass(t_k = 5, xy_k = 5):\n",
    "    oR = OutlierRemoved()\n",
    "    history = [next(oR) for _ in range(t_k)]\n",
    "    for frame in oR:\n",
    "        a = np.sum(history) / t_k\n",
    "        yield cv.medianBlur(a, xy_k)\n",
    "        history.pop(0)\n",
    "        history.append(frame)\n"
   ]
  },
  {
   "cell_type": "code",
   "execution_count": null,
   "metadata": {},
   "outputs": [],
   "source": [
    "LowPass"
   ]
  }
 ],
 "metadata": {
  "kernelspec": {
   "display_name": "Python 3",
   "language": "python",
   "name": "python3"
  },
  "language_info": {
   "codemirror_mode": {
    "name": "ipython",
    "version": 3
   },
   "file_extension": ".py",
   "mimetype": "text/x-python",
   "name": "python",
   "nbconvert_exporter": "python",
   "pygments_lexer": "ipython3",
   "version": "3.6.10"
  }
 },
 "nbformat": 4,
 "nbformat_minor": 2
}

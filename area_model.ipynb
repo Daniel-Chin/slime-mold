{
 "cells": [
  {
   "cell_type": "code",
   "execution_count": null,
   "metadata": {},
   "outputs": [],
   "source": [
    "import cv2 as cv\n",
    "import numpy as np\n",
    "import matplotlib.pyplot as plt\n",
    "from functools import lru_cache\n",
    "from jdt import Jdt"
   ]
  },
  {
   "cell_type": "code",
   "execution_count": null,
   "metadata": {},
   "outputs": [],
   "source": [
    "VIDEO_FILE = './heavy/2021-04-25.mp4'"
   ]
  },
  {
   "cell_type": "code",
   "execution_count": null,
   "metadata": {},
   "outputs": [],
   "source": [
    "class GetFrame:\n",
    "    # to improve: https://stackoverflow.com/questions/33650974/opencv-python-read-specific-frame-using-videocapture\n",
    "    def __init__(self):\n",
    "        self.cache = []\n",
    "        self.newVideoCapture()\n",
    "    \n",
    "    def newVideoCapture(self):\n",
    "        self.videoCapture = cv.VideoCapture(VIDEO_FILE)\n",
    "        self.cursor = 0\n",
    "    \n",
    "    def next(self):\n",
    "        ret, frame = self.videoCapture.read()\n",
    "        self.cursor += 1\n",
    "        assert ret\n",
    "        return frame\n",
    "    \n",
    "    @lru_cache()\n",
    "    def __call__(self, frame_i):\n",
    "        if frame_i < self.cursor:\n",
    "            self.newVideoCapture()\n",
    "        with Jdt(frame_i - self.cursor, UPP = 4) as j:\n",
    "            while self.cursor < frame_i:\n",
    "                j.acc()\n",
    "                self.next()\n",
    "        assert frame_i == self.cursor\n",
    "        frame = self.next()\n",
    "        swapped = frame.copy()\n",
    "        swapped[:,:,0] = frame[:,:,2]\n",
    "        swapped[:,:,2] = frame[:,:,0]\n",
    "        return swapped\n",
    "\n",
    "getFrame = GetFrame()\n",
    "\n",
    "def widePlot(w = 16, h = 9):\n",
    "    fig = plt.gcf()\n",
    "    fig.set_size_inches(w, h)\n",
    "def view(frame):\n",
    "    plt.imshow(frame)\n",
    "    widePlot()\n",
    "    plt.show()"
   ]
  },
  {
   "cell_type": "code",
   "execution_count": null,
   "metadata": {},
   "outputs": [],
   "source": [
    "def channel(frame, z_keep):\n",
    "    result = frame.copy()\n",
    "    for z in range(3):\n",
    "        if z != z_keep:\n",
    "            result[:, :, z] = frame[:, :, z_keep] * .5\n",
    "    return result\n",
    "def colorize(frame):\n",
    "    # convert one-channel frame to three-channel\n",
    "    w, h = frame.shape\n",
    "    result = np.zeros((w, h, 3), dtype=np.int16)\n",
    "    ceil  = np.max(frame)\n",
    "    floor = np.min(frame)\n",
    "    frame = np.rint((frame - floor) / (ceil - floor) * 255)\n",
    "    result[:, :, 0] = frame\n",
    "    result[:, :, 1] = frame\n",
    "    result[:, :, 2] = frame\n",
    "    return result"
   ]
  },
  {
   "cell_type": "code",
   "execution_count": null,
   "metadata": {},
   "outputs": [],
   "source": [
    "sample = getFrame(1720)[450:950, :, :]"
   ]
  },
  {
   "cell_type": "markdown",
   "metadata": {},
   "source": [
    "## 分信道"
   ]
  },
  {
   "cell_type": "code",
   "execution_count": null,
   "metadata": {},
   "outputs": [],
   "source": [
    "view(np.concatenate([sample] + [channel(sample, z) for z in range(3)]))"
   ]
  },
  {
   "cell_type": "markdown",
   "metadata": {},
   "source": [
    "用蓝色非常合理。  \n",
    "SM在绿色和红色下几乎不可见。  "
   ]
  },
  {
   "cell_type": "markdown",
   "metadata": {},
   "source": [
    "## 麦片隐身术"
   ]
  },
  {
   "cell_type": "raw",
   "metadata": {},
   "source": [
    "               R , G , B\n",
    "Background:    84,102, 64\n",
    "Cereal body:   89, 91, 42\n",
    "Cereal center: 58, 59,  8\n",
    "SM:            93,101, 16\n",
    "\n",
    "- Backgorund\n",
    "\n",
    "Cereal body:   -5, 11, 22\n",
    "Cereal center: 26, 43, 56\n",
    "SM:            -9,  1, 48\n",
    "\n",
    "-5 * x + 11 * y + 22 = 0\n",
    "26 * x + 43 * y + 56 = 0"
   ]
  },
  {
   "cell_type": "markdown",
   "metadata": {},
   "source": [
    "remove cereal body"
   ]
  },
  {
   "cell_type": "code",
   "execution_count": null,
   "metadata": {},
   "outputs": [],
   "source": [
    "view(colorize(sample[:, :, 2] - 2 * (sample[:, :, 1])))"
   ]
  },
  {
   "cell_type": "markdown",
   "metadata": {},
   "source": [
    "linear system"
   ]
  },
  {
   "cell_type": "code",
   "execution_count": null,
   "metadata": {},
   "outputs": [],
   "source": [
    "x, y = np.linalg.solve(np.array([[-5,11],[26,43]]), np.array([[-22],[-56]]))\n",
    "x, y"
   ]
  },
  {
   "cell_type": "code",
   "execution_count": null,
   "metadata": {},
   "outputs": [],
   "source": [
    "view(np.concatenate([\n",
    "    sample, \n",
    "    colorize(.65 * sample[:, :, 0] - 1.7 * sample[:, :, 1] + sample[:, :, 2]), \n",
    "    channel(sample, 2),\n",
    "]))"
   ]
  }
 ],
 "metadata": {
  "kernelspec": {
   "display_name": "Python 3",
   "language": "python",
   "name": "python3"
  },
  "language_info": {
   "codemirror_mode": {
    "name": "ipython",
    "version": 3
   },
   "file_extension": ".py",
   "mimetype": "text/x-python",
   "name": "python",
   "nbconvert_exporter": "python",
   "pygments_lexer": "ipython3",
   "version": "3.6.10"
  }
 },
 "nbformat": 4,
 "nbformat_minor": 2
}
